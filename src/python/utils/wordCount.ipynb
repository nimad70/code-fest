{
  "nbformat": 4,
  "nbformat_minor": 0,
  "metadata": {
    "colab": {
      "provenance": []
    },
    "kernelspec": {
      "name": "python3",
      "display_name": "Python 3"
    },
    "language_info": {
      "name": "python"
    }
  },
  "cells": [
    {
      "cell_type": "code",
      "execution_count": null,
      "metadata": {
        "id": "50xRaEw0CF-Y"
      },
      "outputs": [],
      "source": [
        "def word_count(input_string):\n",
        "  tokens = input_string.split(\" \")\n",
        "  return len(tokens)"
      ]
    },
    {
      "cell_type": "code",
      "source": [],
      "metadata": {
        "id": "k_tK3sAUCXDk"
      },
      "execution_count": null,
      "outputs": []
    }
  ]
}