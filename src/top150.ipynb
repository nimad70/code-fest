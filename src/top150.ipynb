{
 "cells": [
  {
   "cell_type": "markdown",
   "metadata": {},
   "source": [
    "88. Merge Sorted Array\n",
    "Remove duplicates from a sorted array in-place, ensuring each unique element appears at most twice, and return the count of remaining elements."
   ]
  },
  {
   "cell_type": "code",
   "execution_count": 2,
   "metadata": {},
   "outputs": [],
   "source": [
    "def merge(nums1: list[int], m: int, nums2: list[int], n: int) -> None:\n",
    "    mp = m - 1\n",
    "    np = n - 1\n",
    "    cp = m + n - 1\n",
    "\n",
    "    while cp>=0:\n",
    "        if mp<0:\n",
    "            nums1[cp] = nums2[np]\n",
    "            cp -= 1\n",
    "            np -= 1\n",
    "        elif np<0:\n",
    "            nums1[cp] = nums1[mp]\n",
    "            cp -= 1\n",
    "            mp -= 1\n",
    "        elif nums1[mp]>nums2[np]:\n",
    "            nums1[cp] = nums1[mp]\n",
    "            cp -= 1\n",
    "            mp -= 1\n",
    "        else:\n",
    "            nums1[cp] = nums2[np]\n",
    "            cp -= 1\n",
    "            np -= 1\n",
    "    \n",
    "    return nums1"
   ]
  },
  {
   "cell_type": "code",
   "execution_count": 3,
   "metadata": {},
   "outputs": [
    {
     "name": "stdout",
     "output_type": "stream",
     "text": [
      "[1, 2, 2, 3, 5, 6]\n",
      "[1]\n",
      "[1]\n"
     ]
    }
   ],
   "source": [
    "if __name__ == \"__main__\":\n",
    "    nums1 = [1, 2, 3, 0, 0, 0]\n",
    "    m = 3\n",
    "    nums2 = [2, 5, 6]\n",
    "    n = 3\n",
    "    print(merge(nums1, m, nums2, n))\n",
    "\n",
    "    nums1 = [1] \n",
    "    m = 1\n",
    "    nums2 = []\n",
    "    n = 0\n",
    "    print(merge(nums1, m, nums2, n))\n",
    "\n",
    "    nums1 = [0]\n",
    "    m = 0\n",
    "    nums2 = [1]\n",
    "    n = 1\n",
    "    print(merge(nums1, m, nums2, n))"
   ]
  },
  {
   "cell_type": "markdown",
   "metadata": {},
   "source": [
    "27. Remove Element\n",
    "\n",
    "Remove all occurrences of a given value from an array in-place and return the count of remaining elements."
   ]
  },
  {
   "cell_type": "code",
   "execution_count": 6,
   "metadata": {},
   "outputs": [],
   "source": [
    "def removeElement(nums: list[int], val: int) -> int:\n",
    "    # i = 0\n",
    "    # while(i < len(nums)):\n",
    "    #     if nums[i] == val:\n",
    "    #         nums.pop(i)\n",
    "    #         i -= 1\n",
    "    #     i += 1\n",
    "    # return len(nums)\n",
    "    # while val in nums:\n",
    "    #     nums.remove(val)\n",
    "    # return len(nums)\n",
    "    # withoud remove() method\n",
    "    k = 0 # pointer\n",
    "    rp = 0 # read pointer\n",
    "    wp = 0 # write pointer\n",
    "    while rp < len(nums):\n",
    "        if val != nums[rp]:\n",
    "            nums[wp] = nums[rp]\n",
    "            k += 1\n",
    "            wp += 1\n",
    "        rp += 1\n",
    "    return k"
   ]
  },
  {
   "cell_type": "code",
   "execution_count": 8,
   "metadata": {},
   "outputs": [
    {
     "name": "stdout",
     "output_type": "stream",
     "text": [
      "3 [3, 2, 2, 3]\n",
      "2 [2, 2, 2, 3]\n",
      "\n",
      "2 [0, 1, 2, 2, 3, 0, 4, 2]\n",
      "5 [0, 1, 3, 0, 4, 0, 4, 2]\n",
      "\n",
      "0 [0, 1, 2, 2, 3, 0, 4, 2]\n",
      "6 [1, 2, 2, 3, 4, 2, 4, 2]\n"
     ]
    }
   ],
   "source": [
    "if __name__ == \"__main__\":\n",
    "    nums = [3,2,2,3]\n",
    "    val = 3\n",
    "    print(val, nums)\n",
    "    k = removeElement(nums, val)\n",
    "    print(k, nums)\n",
    "\n",
    "    print()\n",
    "\n",
    "    nums = [0,1,2,2,3,0,4,2]\n",
    "    val = 2\n",
    "    print(val, nums)\n",
    "    k = removeElement(nums, val)\n",
    "    print(k, nums)\n",
    "\n",
    "    print()\n",
    "\n",
    "    nums = [0,1,2,2,3,0,4,2]\n",
    "    val = 0\n",
    "    print(val, nums)\n",
    "    k = removeElement(nums, val)\n",
    "    print(k, nums)"
   ]
  },
  {
   "cell_type": "markdown",
   "metadata": {},
   "source": [
    "26. Remove Duplicates from Sorted Array\n",
    "\n",
    "Remove duplicates from a sorted array in-place, keeping only unique elements, and return the count of unique elements."
   ]
  },
  {
   "cell_type": "code",
   "execution_count": 10,
   "metadata": {},
   "outputs": [],
   "source": [
    "def removeDuplicates(nums: list[int]) -> int:\n",
    "    # nums = list(set(nums))\n",
    "    # print(nums)\n",
    "    # return len(nums)\n",
    "    # k = len(nums)-1\n",
    "    # while(k > 0):\n",
    "    #     # print(f\"k: {k}, nums:{nums}\")\n",
    "    #     if nums[k] == nums[k-1]:\n",
    "    #         # print(f\"nums[k]: {nums[k]}, nums[k-1]: {nums[k-1]}\")\n",
    "    #         nums.pop(k-1)\n",
    "    #         # print(\"pop\", nums.pop(k-1))\n",
    "    #         # print(f\"k: {k}, nums:{nums}\")\n",
    "    #     k -= 1\n",
    "    #     # print(f\"k-1: {k}, nums:{nums}\")\n",
    "    # return len(nums)   \n",
    "    prev = nums[0]\n",
    "    wp = 1 # write pointer\n",
    "    k = 1\n",
    "    if not nums:\n",
    "        return k-1\n",
    "    if len(nums) < 2:\n",
    "        return k\n",
    "    for i in range(1, len(nums)):\n",
    "        if nums[i] != prev:\n",
    "            nums[wp] = nums[i]\n",
    "            prev = nums[wp]\n",
    "            wp += 1\n",
    "            k += 1\n",
    "    return k "
   ]
  },
  {
   "cell_type": "code",
   "execution_count": 11,
   "metadata": {},
   "outputs": [
    {
     "name": "stdout",
     "output_type": "stream",
     "text": [
      "2\n",
      "5\n",
      "5\n"
     ]
    }
   ],
   "source": [
    "if __name__ == \"__main__\":\n",
    "    nums = [1,1,2]\n",
    "    print(removeDuplicates(nums))\n",
    "\n",
    "    nums = [0,0,1,1,1,2,2,3,3,4]\n",
    "    print(removeDuplicates(nums))\n",
    "\n",
    "    nums = [0,0,1,1,1,2,2,3,3,4]\n",
    "    print(removeDuplicates(nums))"
   ]
  },
  {
   "cell_type": "markdown",
   "metadata": {},
   "source": [
    "80. Remove Duplicates from Sorted Array II\n",
    "\n",
    "Remove duplicates from a sorted array in-place, ensuring each unique element appears at most twice, and return the count of remaining elements."
   ]
  },
  {
   "cell_type": "code",
   "execution_count": 52,
   "metadata": {},
   "outputs": [
    {
     "name": "stdout",
     "output_type": "stream",
     "text": [
      "len: 4\n",
      "k: 3, nums:[1, 1, 1, 1]\n",
      "nums[k]: 1, nums[k-1]: 1\n",
      "count: 0\n",
      "count: 1\n",
      "k-1: 2, nums:[1, 1, 1, 1]\n",
      "k: 2, nums:[1, 1, 1, 1]\n",
      "nums[k]: 1, nums[k-1]: 1\n",
      "count: 1\n",
      "count: 2\n",
      "count: 2\n",
      "nums[k]: 1, nums[k-1]: 1\n",
      "pop: 1\n",
      "k: 2, nums:[1, 1, 1]\n",
      "k-1: 1, nums:[1, 1, 1]\n",
      "k: 1, nums:[1, 1, 1]\n",
      "nums[k]: 1, nums[k-1]: 1\n",
      "count: 0\n",
      "count: 1\n",
      "k-1: 0, nums:[1, 1, 1]\n",
      "(3, [1, 1, 1])\n"
     ]
    }
   ],
   "source": [
    "def removeDuplicates(nums: list[int]) -> int:\n",
    "    print(f\"len: {len(nums)}\")\n",
    "    k = len(nums) -1\n",
    "    count = 0\n",
    "\n",
    "    while(k > 0):\n",
    "        print(f\"k: {k}, nums:{nums}\")\n",
    "        print(f\"nums[k]: {nums[k]}, nums[k-1]: {nums[k-1]}\")\n",
    "        print(f\"count: {count}\")\n",
    "        if nums[k] == nums[k-1]:\n",
    "            count += 1\n",
    "            print(f\"count: {count}\")\n",
    "            if count > 1:\n",
    "                print(f\"count: {count}\")\n",
    "                # print(f\"nums[k]: {nums[k]}, nums[k-1]: {nums[k-1]}\")\n",
    "                p = nums.pop(k)\n",
    "                print(f\"nums[k]: {nums[k]}, nums[k-1]: {nums[k-1]}\")\n",
    "                if nums[k-1] == p:\n",
    "                    for i in range(k-1, 0):\n",
    "                        if nums[i] == p:\n",
    "                            nums.pop(i)\n",
    "                            print(f\"pop: {p}\")\n",
    "                            count = 0\n",
    "                            # print(\"pop\", nums.pop(k-1))\n",
    "                            # print(\"pop\", nums.pop(k))\n",
    "                            print(f\"k: {k}, nums:{nums}\")\n",
    "                        nums.pop(k-1)\n",
    "                print(f\"pop: {p}\")\n",
    "                count = 0\n",
    "                # print(\"pop\", nums.pop(k-1))\n",
    "                # print(\"pop\", nums.pop(k))\n",
    "                print(f\"k: {k}, nums:{nums}\")\n",
    "        k -= 1\n",
    "        print(f\"k-1: {k}, nums:{nums}\")\n",
    "\n",
    "    return len(nums), nums\n",
    "\n",
    "\n",
    "if __name__ == \"__main__\":\n",
    "    # nums = [1,1,1,2,2,3]\n",
    "    # print(removeDuplicates(nums))\n",
    "    # nums = [0,0,1,1,1,1,2,3,3]\n",
    "    # print(removeDuplicates(nums))\n",
    "    nums = [1,1,1,1]\n",
    "    print(removeDuplicates(nums))"
   ]
  },
  {
   "cell_type": "markdown",
   "metadata": {},
   "source": [
    "219. Contains Duplicate II\n",
    "\n",
    "Given an integer array nums and an integer k, return true if there are two distinct indices i and j in the array such that nums[i] == nums[j] and abs(i - j) <= k."
   ]
  },
  {
   "cell_type": "code",
   "execution_count": 43,
   "metadata": {},
   "outputs": [
    {
     "name": "stdout",
     "output_type": "stream",
     "text": [
      "True\n",
      "True\n",
      "False\n"
     ]
    }
   ],
   "source": [
    "def containDuplicates(nums: list[int], k:int) -> bool:\n",
    "    d = dict()\n",
    "    for index, i in enumerate(nums):\n",
    "        if i in d.keys():\n",
    "            if abs(d[i]-index) <= k:\n",
    "                return True\n",
    "            else:\n",
    "                d[i] = index\n",
    "        else:\n",
    "            d[i] = index\n",
    "    return False\n",
    "        \n",
    "\n",
    "if __name__ == \"__main__\":\n",
    "    nums = [1,2,3,1]\n",
    "    k = 3\n",
    "    print(containDuplicates(nums, k))\n",
    "\n",
    "    nums = [1,0,1,1]\n",
    "    k = 1\n",
    "    print(containDuplicates(nums, k))\n",
    "\n",
    "    nums = [1,2,3,1,2,3]\n",
    "    k = 2\n",
    "    print(containDuplicates(nums, k))"
   ]
  },
  {
   "cell_type": "markdown",
   "metadata": {},
   "source": [
    "217. Contains Duplicate\n",
    "\n",
    "Given an integer array nums, return true if any value appears at least twice in the array, and return false if every element is distinct."
   ]
  },
  {
   "cell_type": "code",
   "execution_count": null,
   "metadata": {},
   "outputs": [],
   "source": []
  },
  {
   "cell_type": "markdown",
   "metadata": {},
   "source": [
    "Problem 1:\n",
    "\n",
    "Given a list of prices for different colors and a budget, we need to find the maximum number of consecutive colors that can be purchased without exceeding the budget.\n",
    "\n",
    "The approach to solving this would be to use a sliding window to check for all possible consecutive subarrays and track the length of the longest one that fits within the budget.\n",
    "\n",
    "Let me code that for you.\n",
    "\n",
    "The solution to the problem is a function that calculates the maximum number of consecutive colors that can be purchased given the budget. For the example provided with the prices [2, 3, 5, 1, 1, 2, 1] and a budget of 7, the maximum number of colors that can be purchased is 4"
   ]
  },
  {
   "cell_type": "code",
   "execution_count": 49,
   "metadata": {},
   "outputs": [],
   "source": [
    "def getMaxColor(prices, money):\n",
    "    pass\n",
    "    \n",
    "\n",
    "\n",
    "\n",
    "if __name__ == \"__main___\":\n",
    "    pricesList = [2, 3, 5, 1, 1, 2, 1]\n",
    "    moneyBudget = 7\n",
    "    print(getMaxCOlor(pricesList, moneyBudget))"
   ]
  },
  {
   "cell_type": "markdown",
   "metadata": {},
   "source": [
    "20. Valid Parantheses\n",
    "\n",
    "Given a string s containing just the characters '(', ')', '{', '}', '[' and ']', determine if the input string is valid.\n",
    "\n",
    "An input string is valid if:\n",
    "\n",
    "Open brackets must be closed by the same type of brackets.\n",
    "Open brackets must be closed in the correct order.\n",
    "Every close bracket has a corresponding open bracket of the same type."
   ]
  },
  {
   "cell_type": "code",
   "execution_count": 7,
   "metadata": {},
   "outputs": [
    {
     "name": "stdout",
     "output_type": "stream",
     "text": [
      "True\n",
      "True\n",
      "False\n",
      "False\n",
      "True\n"
     ]
    }
   ],
   "source": [
    "def isValid(s: str) -> bool:\n",
    "        stack = []\n",
    "        for c in s:\n",
    "            if c in '({[':\n",
    "                stack.append(c)\n",
    "            elif not stack:\n",
    "                 return False\n",
    "            elif c == ')':\n",
    "                if stack.pop() != '(':\n",
    "                     return False\n",
    "            elif c == ']':\n",
    "                 if stack.pop() != '[':\n",
    "                      return False\n",
    "            elif c == '}':\n",
    "                 if stack.pop() != '{':\n",
    "                      return False\n",
    "        if stack:\n",
    "             return False\n",
    "        return True\n",
    "                      \n",
    "\n",
    "\n",
    "if __name__ == \"__main__\":\n",
    "    s = \"()\"\n",
    "    print(isValid(s))\n",
    "\n",
    "    s = \"()[]{}\"\n",
    "    print(isValid(s))\n",
    "          \n",
    "    s = \"(]\"\n",
    "    print(isValid(s))\n",
    "    \n",
    "    s = \"([)]\"\n",
    "    print(isValid(s))\n",
    "\n",
    "    s = \"([])\"\n",
    "    print(isValid(s))\n"
   ]
  },
  {
   "cell_type": "code",
   "execution_count": null,
   "metadata": {},
   "outputs": [],
   "source": [
    "# 383\n",
    "\n",
    "        # letters = {}\n",
    "        # for c in magazine:\n",
    "        #     if c in letters:\n",
    "        #         letters[c] += 1\n",
    "        #     else:\n",
    "        #         letters[c] = 1\n",
    "        # for c in ransomNote:\n",
    "        #     if not c in letters:\n",
    "        #         return False\n",
    "        #     if letters[c] == 0:\n",
    "        #         return False\n",
    "        #     letters[c] -= 1\n",
    "        # return True\n",
    "\n",
    "def canConstruct(self, ransomNote: str, magazine: str) -> bool:\n",
    "        if len(ransomNote) > len(magazine):\n",
    "             return False\n",
    "        for c in set(ransomNote):\n",
    "            if magazine.count(c) < ransomNote.count(c):\n",
    "                return False\n",
    "        return True"
   ]
  },
  {
   "cell_type": "markdown",
   "metadata": {},
   "source": [
    "169"
   ]
  },
  {
   "cell_type": "code",
   "execution_count": null,
   "metadata": {},
   "outputs": [],
   "source": [
    "    def majorityElement(self, nums: List[int]) -> int:\n",
    "        # count = {}\n",
    "        # total_len = len(nums)\n",
    "        # for n in nums:\n",
    "        #     count[n] = count.get(n, 0) + 1\n",
    "        #     if count.get(n) > (total_len/2):\n",
    "        #         return n\n",
    "        # return None\n",
    "        candidate = 0\n",
    "        votes = 0\n",
    "        for n in nums:\n",
    "            if votes == 0:\n",
    "                candidate = n\n",
    "            if candidate == n:\n",
    "                votes += 1\n",
    "            else:\n",
    "                votes -= 1\n",
    "        return candidate"
   ]
  },
  {
   "cell_type": "code",
   "execution_count": null,
   "metadata": {},
   "outputs": [],
   "source": [
    "#121\n",
    "\n",
    "class Solution:\n",
    "    def maxProfit(self, prices: List[int]) -> int:\n",
    "        max_profit = 0\n",
    "        buy_price = prices[0]\n",
    "        for day in range(1, len(prices)):\n",
    "            if buy_price > prices[day]:\n",
    "                buy_price = prices[day]\n",
    "            elif max_profit < (prices[day] - buy_price):\n",
    "                max_profit = prices[day] - buy_price\n",
    "\n",
    "\n",
    "        return max_profit\n",
    "        "
   ]
  },
  {
   "cell_type": "code",
   "execution_count": null,
   "metadata": {},
   "outputs": [],
   "source": [
    "#13\n",
    "class Solution:\n",
    "    def romanToInt(self, s: str) -> int:\n",
    "        rToi = {\n",
    "            \"I\":    1,\n",
    "            \"V\":    5,\n",
    "            \"X\":    10,\n",
    "            \"L\":    50,\n",
    "            \"C\":    100,\n",
    "            \"D\":    500,\n",
    "            \"M\":    1000,\n",
    "            \"IV\":   4,\n",
    "            \"IX\":   9,\n",
    "            \"XL\":   40,\n",
    "            \"XC\":   90,\n",
    "            \"CD\":   400,\n",
    "            \"CM\":   900\n",
    "        }\n",
    "        \n",
    "\n",
    "        answer = 0\n",
    "        i = 0\n",
    "        while i < len(s):\n",
    "            if  s[i:i+2] in rToi:\n",
    "                answer += rToi[s[i:i+2]]\n",
    "                i += 2\n",
    "            elif s[i] in rToi:\n",
    "                answer += rToi[s[i]]\n",
    "                i += 1\n",
    "        return answer"
   ]
  },
  {
   "cell_type": "code",
   "execution_count": null,
   "metadata": {},
   "outputs": [],
   "source": [
    "#58\n",
    "\n",
    "class Solution:\n",
    "    def lengthOfLastWord(self, s: str) -> int:\n",
    "        l = 0\n",
    "        i = len(s)\n",
    "\n",
    "        while i>0:\n",
    "            i -= 1\n",
    "            if s[i] != ' ':\n",
    "                l += 1\n",
    "            elif l != 0:\n",
    "                break\n",
    "        return l\n"
   ]
  },
  {
   "cell_type": "code",
   "execution_count": 21,
   "metadata": {},
   "outputs": [
    {
     "ename": "KeyboardInterrupt",
     "evalue": "",
     "output_type": "error",
     "traceback": [
      "\u001b[1;31m---------------------------------------------------------------------------\u001b[0m",
      "\u001b[1;31mKeyboardInterrupt\u001b[0m                         Traceback (most recent call last)",
      "Cell \u001b[1;32mIn[21], line 13\u001b[0m\n\u001b[0;32m      9\u001b[0m         \u001b[38;5;28;01mreturn\u001b[39;00m ans\n\u001b[0;32m     12\u001b[0m strs \u001b[38;5;241m=\u001b[39m [\u001b[38;5;124m\"\u001b[39m\u001b[38;5;124mflower\u001b[39m\u001b[38;5;124m\"\u001b[39m,\u001b[38;5;124m\"\u001b[39m\u001b[38;5;124mflow\u001b[39m\u001b[38;5;124m\"\u001b[39m,\u001b[38;5;124m\"\u001b[39m\u001b[38;5;124mflight\u001b[39m\u001b[38;5;124m\"\u001b[39m]\n\u001b[1;32m---> 13\u001b[0m \u001b[38;5;28mprint\u001b[39m(\u001b[43mlongestCommonPrefix\u001b[49m\u001b[43m(\u001b[49m\u001b[43mstrs\u001b[49m\u001b[43m)\u001b[49m)\n",
      "Cell \u001b[1;32mIn[21], line 7\u001b[0m, in \u001b[0;36mlongestCommonPrefix\u001b[1;34m(strs)\u001b[0m\n\u001b[0;32m      5\u001b[0m     \u001b[38;5;28;01mfor\u001b[39;00m s \u001b[38;5;129;01min\u001b[39;00m strs[\u001b[38;5;241m1\u001b[39m:]:\n\u001b[0;32m      6\u001b[0m         \u001b[38;5;28;01mif\u001b[39;00m \u001b[38;5;28mlen\u001b[39m(s) \u001b[38;5;241m<\u001b[39m l \u001b[38;5;129;01mor\u001b[39;00m s[\u001b[38;5;241m0\u001b[39m:l] \u001b[38;5;241m!=\u001b[39m looking_for:\n\u001b[1;32m----> 7\u001b[0m             \u001b[38;5;28;01mreturn\u001b[39;00m ans\n\u001b[0;32m      8\u001b[0m     ans \u001b[38;5;241m=\u001b[39m looking_for\n\u001b[0;32m      9\u001b[0m \u001b[38;5;28;01mreturn\u001b[39;00m ans\n",
      "File \u001b[1;32m<stringsource>:69\u001b[0m, in \u001b[0;36mcfunc.to_py.__Pyx_CFunc_4904d5__29_pydevd_sys_monitoring_cython_object__lParen__etc_to_py_4code_11instruction_6retval.wrap\u001b[1;34m()\u001b[0m\n",
      "File \u001b[1;32m_pydevd_sys_monitoring\\\\_pydevd_sys_monitoring_cython.pyx:1144\u001b[0m, in \u001b[0;36m_pydevd_sys_monitoring_cython._return_event\u001b[1;34m()\u001b[0m\n",
      "File \u001b[1;32m_pydevd_sys_monitoring\\\\_pydevd_sys_monitoring_cython.pyx:1247\u001b[0m, in \u001b[0;36m_pydevd_sys_monitoring_cython._stop_on_return\u001b[1;34m()\u001b[0m\n",
      "File \u001b[1;32m_pydevd_sys_monitoring\\\\_pydevd_sys_monitoring_cython.pyx:1945\u001b[0m, in \u001b[0;36m_pydevd_sys_monitoring_cython._do_wait_suspend\u001b[1;34m()\u001b[0m\n",
      "File \u001b[1;32mc:\\Users\\nimad\\dev\\python\\CodeContests\\venv\\Lib\\site-packages\\debugpy\\_vendored\\pydevd\\pydevd.py:2185\u001b[0m, in \u001b[0;36mPyDB.do_wait_suspend\u001b[1;34m(self, thread, frame, event, arg, exception_type)\u001b[0m\n\u001b[0;32m   2182\u001b[0m             from_this_thread\u001b[38;5;241m.\u001b[39mappend(frame_custom_thread_id)\n\u001b[0;32m   2184\u001b[0m     \u001b[38;5;28;01mwith\u001b[39;00m \u001b[38;5;28mself\u001b[39m\u001b[38;5;241m.\u001b[39m_threads_suspended_single_notification\u001b[38;5;241m.\u001b[39mnotify_thread_suspended(thread_id, thread, stop_reason):\n\u001b[1;32m-> 2185\u001b[0m         keep_suspended \u001b[38;5;241m=\u001b[39m \u001b[38;5;28;43mself\u001b[39;49m\u001b[38;5;241;43m.\u001b[39;49m\u001b[43m_do_wait_suspend\u001b[49m\u001b[43m(\u001b[49m\u001b[43mthread\u001b[49m\u001b[43m,\u001b[49m\u001b[43m \u001b[49m\u001b[43mframe\u001b[49m\u001b[43m,\u001b[49m\u001b[43m \u001b[49m\u001b[43mevent\u001b[49m\u001b[43m,\u001b[49m\u001b[43m \u001b[49m\u001b[43marg\u001b[49m\u001b[43m,\u001b[49m\u001b[43m \u001b[49m\u001b[43mtrace_suspend_type\u001b[49m\u001b[43m,\u001b[49m\u001b[43m \u001b[49m\u001b[43mfrom_this_thread\u001b[49m\u001b[43m,\u001b[49m\u001b[43m \u001b[49m\u001b[43mframes_tracker\u001b[49m\u001b[43m)\u001b[49m\n\u001b[0;32m   2187\u001b[0m frames_list \u001b[38;5;241m=\u001b[39m \u001b[38;5;28;01mNone\u001b[39;00m\n\u001b[0;32m   2189\u001b[0m \u001b[38;5;28;01mif\u001b[39;00m keep_suspended:\n\u001b[0;32m   2190\u001b[0m     \u001b[38;5;66;03m# This means that we should pause again after a set next statement.\u001b[39;00m\n",
      "File \u001b[1;32mc:\\Users\\nimad\\dev\\python\\CodeContests\\venv\\Lib\\site-packages\\debugpy\\_vendored\\pydevd\\pydevd.py:2254\u001b[0m, in \u001b[0;36mPyDB._do_wait_suspend\u001b[1;34m(self, thread, frame, event, arg, trace_suspend_type, from_this_thread, frames_tracker)\u001b[0m\n\u001b[0;32m   2251\u001b[0m                 queue\u001b[38;5;241m.\u001b[39mput(internal_cmd)\n\u001b[0;32m   2252\u001b[0m                 wait_timeout \u001b[38;5;241m=\u001b[39m TIMEOUT_FAST\n\u001b[1;32m-> 2254\u001b[0m         \u001b[43mnotify_event\u001b[49m\u001b[38;5;241;43m.\u001b[39;49m\u001b[43mwait\u001b[49m\u001b[43m(\u001b[49m\u001b[43mwait_timeout\u001b[49m\u001b[43m)\u001b[49m\n\u001b[0;32m   2255\u001b[0m         notify_event\u001b[38;5;241m.\u001b[39mclear()\n\u001b[0;32m   2257\u001b[0m \u001b[38;5;28;01mfinally\u001b[39;00m:\n",
      "File \u001b[1;32m~\\AppData\\Local\\Programs\\Python\\Python313\\Lib\\threading.py:659\u001b[0m, in \u001b[0;36mEvent.wait\u001b[1;34m(self, timeout)\u001b[0m\n\u001b[0;32m    657\u001b[0m signaled \u001b[38;5;241m=\u001b[39m \u001b[38;5;28mself\u001b[39m\u001b[38;5;241m.\u001b[39m_flag\n\u001b[0;32m    658\u001b[0m \u001b[38;5;28;01mif\u001b[39;00m \u001b[38;5;129;01mnot\u001b[39;00m signaled:\n\u001b[1;32m--> 659\u001b[0m     signaled \u001b[38;5;241m=\u001b[39m \u001b[38;5;28;43mself\u001b[39;49m\u001b[38;5;241;43m.\u001b[39;49m\u001b[43m_cond\u001b[49m\u001b[38;5;241;43m.\u001b[39;49m\u001b[43mwait\u001b[49m\u001b[43m(\u001b[49m\u001b[43mtimeout\u001b[49m\u001b[43m)\u001b[49m\n\u001b[0;32m    660\u001b[0m \u001b[38;5;28;01mreturn\u001b[39;00m signaled\n",
      "File \u001b[1;32m~\\AppData\\Local\\Programs\\Python\\Python313\\Lib\\threading.py:363\u001b[0m, in \u001b[0;36mCondition.wait\u001b[1;34m(self, timeout)\u001b[0m\n\u001b[0;32m    361\u001b[0m \u001b[38;5;28;01melse\u001b[39;00m:\n\u001b[0;32m    362\u001b[0m     \u001b[38;5;28;01mif\u001b[39;00m timeout \u001b[38;5;241m>\u001b[39m \u001b[38;5;241m0\u001b[39m:\n\u001b[1;32m--> 363\u001b[0m         gotit \u001b[38;5;241m=\u001b[39m \u001b[43mwaiter\u001b[49m\u001b[38;5;241;43m.\u001b[39;49m\u001b[43macquire\u001b[49m\u001b[43m(\u001b[49m\u001b[38;5;28;43;01mTrue\u001b[39;49;00m\u001b[43m,\u001b[49m\u001b[43m \u001b[49m\u001b[43mtimeout\u001b[49m\u001b[43m)\u001b[49m\n\u001b[0;32m    364\u001b[0m     \u001b[38;5;28;01melse\u001b[39;00m:\n\u001b[0;32m    365\u001b[0m         gotit \u001b[38;5;241m=\u001b[39m waiter\u001b[38;5;241m.\u001b[39macquire(\u001b[38;5;28;01mFalse\u001b[39;00m)\n",
      "\u001b[1;31mKeyboardInterrupt\u001b[0m: "
     ]
    }
   ],
   "source": [
    "def longestCommonPrefix(strs):\n",
    "        ans = \"\"\n",
    "        for l in range(1, len(strs[0])+1):\n",
    "            looking_for = strs[0][0:l]\n",
    "            for s in strs[1:]:\n",
    "                if len(s) < l or s[0:l] != looking_for:\n",
    "                    return ans\n",
    "            ans = looking_for\n",
    "        return ans\n",
    "\n",
    "\n",
    "strs = [\"flower\",\"flow\",\"flight\"]\n",
    "print(longestCommonPrefix(strs))\n",
    "\n",
    "# try sort"
   ]
  },
  {
   "cell_type": "code",
   "execution_count": null,
   "metadata": {},
   "outputs": [
    {
     "name": "stdout",
     "output_type": "stream",
     "text": [
      "-1\n"
     ]
    }
   ],
   "source": [
    "\n",
    "#28\n",
    "def strStr(self, haystack: str, needle: str) -> int:\n",
    "    for i in range(len(haystack) - len(needle)+1):\n",
    "        found = True\n",
    "        for j in range(len(needle)):\n",
    "            if haystack[i + j] != needle[j]:\n",
    "                found = False\n",
    "                break\n",
    "        if found:\n",
    "            return i\n",
    "    return -1"
   ]
  },
  {
   "cell_type": "code",
   "execution_count": null,
   "metadata": {},
   "outputs": [],
   "source": []
  }
 ],
 "metadata": {
  "kernelspec": {
   "display_name": "venv",
   "language": "python",
   "name": "python3"
  },
  "language_info": {
   "codemirror_mode": {
    "name": "ipython",
    "version": 3
   },
   "file_extension": ".py",
   "mimetype": "text/x-python",
   "name": "python",
   "nbconvert_exporter": "python",
   "pygments_lexer": "ipython3",
   "version": "3.12.3"
  }
 },
 "nbformat": 4,
 "nbformat_minor": 2
}
