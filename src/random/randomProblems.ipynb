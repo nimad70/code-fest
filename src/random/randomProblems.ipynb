{
 "cells": [
  {
   "cell_type": "markdown",
   "metadata": {},
   "source": [
    "Problem 1:\n",
    "\n",
    "Given a list of prices for different colors and a budget, we need to find the maximum number of consecutive colors that can be purchased without exceeding the budget.\n",
    "\n",
    "The approach to solving this would be to use a sliding window to check for all possible consecutive subarrays and track the length of the longest one that fits within the budget.\n",
    "\n",
    "Let me code that for you.\n",
    "\n",
    "The solution to the problem is a function that calculates the maximum number of consecutive colors that can be purchased given the budget. For the example provided with the prices [2, 3, 5, 1, 1, 2, 1] and a budget of 7, the maximum number of colors that can be purchased is 4"
   ]
  },
  {
   "cell_type": "code",
   "execution_count": 49,
   "metadata": {},
   "outputs": [],
   "source": [
    "def getMaxColor(prices, money):\n",
    "    pass\n",
    "    \n",
    "\n",
    "\n",
    "\n",
    "if __name__ == \"__main___\":\n",
    "    pricesList = [2, 3, 5, 1, 1, 2, 1]\n",
    "    moneyBudget = 7\n",
    "    print(getMaxCOlor(pricesList, moneyBudget))"
   ]
  },
  {
   "cell_type": "code",
   "execution_count": null,
   "metadata": {},
   "outputs": [],
   "source": []
  }
 ],
 "metadata": {
  "kernelspec": {
   "display_name": "venv",
   "language": "python",
   "name": "python3"
  },
  "language_info": {
   "codemirror_mode": {
    "name": "ipython",
    "version": 3
   },
   "file_extension": ".py",
   "mimetype": "text/x-python",
   "name": "python",
   "nbconvert_exporter": "python",
   "pygments_lexer": "ipython3",
   "version": "3.12.3"
  }
 },
 "nbformat": 4,
 "nbformat_minor": 2
}
