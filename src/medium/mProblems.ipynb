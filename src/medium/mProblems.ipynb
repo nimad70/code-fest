{
 "cells": [
  {
   "cell_type": "code",
   "execution_count": 52,
   "metadata": {},
   "outputs": [
    {
     "name": "stdout",
     "output_type": "stream",
     "text": [
      "len: 4\n",
      "k: 3, nums:[1, 1, 1, 1]\n",
      "nums[k]: 1, nums[k-1]: 1\n",
      "count: 0\n",
      "count: 1\n",
      "k-1: 2, nums:[1, 1, 1, 1]\n",
      "k: 2, nums:[1, 1, 1, 1]\n",
      "nums[k]: 1, nums[k-1]: 1\n",
      "count: 1\n",
      "count: 2\n",
      "count: 2\n",
      "nums[k]: 1, nums[k-1]: 1\n",
      "pop: 1\n",
      "k: 2, nums:[1, 1, 1]\n",
      "k-1: 1, nums:[1, 1, 1]\n",
      "k: 1, nums:[1, 1, 1]\n",
      "nums[k]: 1, nums[k-1]: 1\n",
      "count: 0\n",
      "count: 1\n",
      "k-1: 0, nums:[1, 1, 1]\n",
      "(3, [1, 1, 1])\n"
     ]
    }
   ],
   "source": [
    "def removeDuplicates(nums: list[int]) -> int:\n",
    "    print(f\"len: {len(nums)}\")\n",
    "    k = len(nums) -1\n",
    "    count = 0\n",
    "\n",
    "    while(k > 0):\n",
    "        print(f\"k: {k}, nums:{nums}\")\n",
    "        print(f\"nums[k]: {nums[k]}, nums[k-1]: {nums[k-1]}\")\n",
    "        print(f\"count: {count}\")\n",
    "        if nums[k] == nums[k-1]:\n",
    "            count += 1\n",
    "            print(f\"count: {count}\")\n",
    "            if count > 1:\n",
    "                print(f\"count: {count}\")\n",
    "                # print(f\"nums[k]: {nums[k]}, nums[k-1]: {nums[k-1]}\")\n",
    "                p = nums.pop(k)\n",
    "                print(f\"nums[k]: {nums[k]}, nums[k-1]: {nums[k-1]}\")\n",
    "                if nums[k-1] == p:\n",
    "                    for i in range(k-1, 0):\n",
    "                        if nums[i] == p:\n",
    "                            nums.pop(i)\n",
    "                            print(f\"pop: {p}\")\n",
    "                            count = 0\n",
    "                            # print(\"pop\", nums.pop(k-1))\n",
    "                            # print(\"pop\", nums.pop(k))\n",
    "                            print(f\"k: {k}, nums:{nums}\")\n",
    "                        nums.pop(k-1)\n",
    "                print(f\"pop: {p}\")\n",
    "                count = 0\n",
    "                # print(\"pop\", nums.pop(k-1))\n",
    "                # print(\"pop\", nums.pop(k))\n",
    "                print(f\"k: {k}, nums:{nums}\")\n",
    "        k -= 1\n",
    "        print(f\"k-1: {k}, nums:{nums}\")\n",
    "\n",
    "    return len(nums), nums\n",
    "\n",
    "\n",
    "if __name__ == \"__main__\":\n",
    "    # nums = [1,1,1,2,2,3]\n",
    "    # print(removeDuplicates(nums))\n",
    "    # nums = [0,0,1,1,1,1,2,3,3]\n",
    "    # print(removeDuplicates(nums))\n",
    "    nums = [1,1,1,1]\n",
    "    print(removeDuplicates(nums))"
   ]
  },
  {
   "cell_type": "code",
   "execution_count": null,
   "metadata": {},
   "outputs": [],
   "source": []
  }
 ],
 "metadata": {
  "kernelspec": {
   "display_name": "venv",
   "language": "python",
   "name": "python3"
  },
  "language_info": {
   "codemirror_mode": {
    "name": "ipython",
    "version": 3
   },
   "file_extension": ".py",
   "mimetype": "text/x-python",
   "name": "python",
   "nbconvert_exporter": "python",
   "pygments_lexer": "ipython3",
   "version": "3.12.3"
  }
 },
 "nbformat": 4,
 "nbformat_minor": 2
}
